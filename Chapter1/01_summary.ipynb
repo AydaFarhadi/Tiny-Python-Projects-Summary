{
 "cells": [
  {
   "cell_type": "markdown",
   "metadata": {},
   "source": [
    "<h2>Chapter 1: How to write and test a Python program</h2>"
   ]
  },
  {
   "cell_type": "markdown",
   "metadata": {},
   "source": [
    "<h2>Structure of chapters</h2>\n",
    "<ul>\n",
    "<li>Prerequisite </li>  \n",
    "<li>Write a Python program to say “Hello, World!”</li>\n",
    "<li>Handle command-line arguments using <i><b>argparse</b></i>  </li>\n",
    "<li>Run tests for the code with Pytest</li>\n",
    "<li>Learn about <i><b>$PATH</b></i> </li>\n",
    "<li>Step-by-step guidline to run a test file </li>\n",
    "</ul>"
   ]
  },
  {
   "cell_type": "markdown",
   "metadata": {},
   "source": [
    "<h2>Prerequisite</h2>\n",
    "\n",
    "<ul>\n",
    "<li>Install VS Code or PyCharm</li>\n",
    "\n",
    "<li>test.py  and  hello.py  files should be in a same working directory.</li>\n",
    "</ul>\n",
    "\n",
    "The **test.py** program need to  find it and we’ll use it to test the program.\n",
    "\n",
    "Run the program  with the command **python3 hello.py**\n",
    "\n",
    "This causes Python version 3 to execute the commands in the file named hello.py. You should see this:\n",
    "\n",
    "\n",
    "To gain more insight into what tests should the program pass, please check the **test.py** file.\n"
   ]
  },
  {
   "cell_type": "markdown",
   "metadata": {},
   "source": [
    "<h2>Some background information:</h2>\n",
    "<ul>\n",
    "<li>A Python program is plain text that lives in a file. You need the python3 program to interpret and execute the program file.</li>\n",
    "    \n",
    "<li>You can make a program executable and copy it to a location in your $PATH so that you can run it like any other program on your computer. Be sure to set the shebang to use env to find the correct python3.</li>\n",
    "\n",
    "<li>The argparse module will help you document and parse all the parameters to your program. You can validate the types and numbers of arguments, which can be positional, optional, or flags. The usage will be automatically generated.</li>\n",
    "    \n",
    "<li>We will use the pytest program to run the test.py programs for each exercise. The make test shortcut will execute pytest -xv test.py, or you can run this command directly.</li>\n",
    " \n",
    " <li>You should run your tests often to ensure that everything works.</li>\n",
    " \n",
    "</ul>\n",
    "\n"
   ]
  },
  {
   "cell_type": "markdown",
   "metadata": {},
   "source": [
    "##  Testing your program\n",
    "\n",
    "The most fundamental idea here  is to learn how to test your programs. The file test.py program in the directory will be used to test the  new hello.py program.\n",
    "\n",
    "We will use pytest to execute all the commands and tell us how many tests we passed. \n",
    "\n",
    "#### pytest -v test.py\n",
    "\n",
    "the -v option,  tells pytest to create “verbose” output. If you run it  you should see the following output as the first several lines. After that will follow many more lines showing you more information about the tests that didn’t pass.\n",
    "\n",
    "\n"
   ]
  },
  {
   "cell_type": "markdown",
   "metadata": {},
   "source": [
    "### Testing hello.py\n",
    "\n",
    "We’ve made many changes to our program—are we sure it still works correctly? Let’s run our test again.\n",
    "This is something you will do literally hundreds of times we should run our program in order to make sure that we are getting right answer. To be eeficient there is  short- cut you might like to use. In every directory, you’ll find a file called Makefile that looks like this:\n",
    "\n",
    "If you have the program make installed on your computer, you can run make test when you are in the 01_hello directory. The make program will look for a Makefile in your current working directory and then look for a recipe called “test.” There it will find that the command to run for the “test” target is **pytest -xv test.py**, so it will run that command for you.\n",
    "\n",
    "**$ make test**\n",
    "\n",
    "**pytest -xv test.py**\n",
    "        \n",
    "The important point is that we were able to use our tests to verify that our program still does exactly what it is supposed to do. As you write programs, you may want to try different solutions. Tests give you the freedom to rewrite a program (also called “refactoring your code”) and know that it still works.\n",
    " "
   ]
  },
  {
   "cell_type": "markdown",
   "metadata": {},
   "source": [
    "## Adding the #! (shebang) line\n",
    "\n",
    "It’s common to put a special comment line in programs  to indicate which language needs to be used to execute the commands in the file.\n",
    "\n",
    "This comment line starts off with #!,\n",
    "and the nickname for this is “shebang” (pro-nounced “shuh-bang”—I always think of the # as the “shuh” and the ! as the “bang!”). Just as with any other comment, Python will ignore the shebang, but the operating system (like macOS or Windows) will use it to decide which program to use and  run the rest of the file.\n",
    "Here is the shebang you should add:\n",
    "\n",
    "\n",
    "**#!/usr/bin/env python3**"
   ]
  },
  {
   "cell_type": "markdown",
   "metadata": {},
   "source": [
    "##  Making a program executable\n",
    "\n",
    "By adding the shebang, we can execute the program directly and let the OS figure out that it should use python3. The advantage of this is that we could copy our program to a directory where other programs live and execute it from anywhere on our computer.\n",
    "The first step in doing this is to make our program **“executable”** using the command **chmod** (change mode). Think of it as turning your program **“on”**. Run this command to make hello.py executable:\n",
    "\n",
    "**chmod +x hello.py**\n",
    "\n",
    "The **+x** will add an “executable” attribute to the file.\n",
    "\n",
    "\n",
    "Now you can run the program like so:\n",
    "\n",
    "**$ ./hello.py**\n",
    "\n",
    "The **./** is the current directory, and it’s necessary to run a program when you are in the same directory as the program.\n"
   ]
  },
  {
   "cell_type": "markdown",
   "metadata": {},
   "source": [
    "##  Step-by-step guidline to run a test file\n",
    "\n",
    "\n",
    "\n",
    "<ul>\n",
    "<li>1- To run the program, make sure that hello.py and test.py are in a same directory.</li>\n",
    "<li>2- run this line: pytest -xv test.py</li>\n",
    "<li>3- Debug your code if there is any error.</li>\n",
    "</ul>\n",
    "\n"
   ]
  },
  {
   "cell_type": "markdown",
   "metadata": {},
   "source": [
    "To gain more insight into what is happening inside these files **hello.py** and **test.py**,  some comment has been left. Please check them out."
   ]
  }
 ],
 "metadata": {
  "kernelspec": {
   "display_name": "Python 3 (ipykernel)",
   "language": "python",
   "name": "python3"
  },
  "language_info": {
   "codemirror_mode": {
    "name": "ipython",
    "version": 3
   },
   "file_extension": ".py",
   "mimetype": "text/x-python",
   "name": "python",
   "nbconvert_exporter": "python",
   "pygments_lexer": "ipython3",
   "version": "3.8.8"
  }
 },
 "nbformat": 4,
 "nbformat_minor": 1
}
