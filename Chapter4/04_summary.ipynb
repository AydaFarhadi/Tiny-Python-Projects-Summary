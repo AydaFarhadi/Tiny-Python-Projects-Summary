{
 "cells": [
  {
   "attachments": {},
   "cell_type": "markdown",
   "metadata": {},
   "source": [
    "<h3>Chapter Structure</h3>\n",
    "<ul>\n",
    "  <li>Each chapter includes a main file, test file, and make file.</li>\n",
    "  <li>The main file is used to implement the code related to the chapter's topic.</li>\n",
    "  <li>The test file contains test cases that ensure the code functions correctly.</li>\n",
    "  <li>A make file is provided to organize and run commands sequentially or handle commands with multiple arguments.</li>\n",
    "  <li>It is recommended to consider test cases before starting the coding process.</li>\n",
    "</ul>"
   ]
  },
  {
   "attachments": {},
   "cell_type": "markdown",
   "metadata": {},
   "source": [
    "<h3>Chapter 4: Working with Dictionaries</h3>\n",
    "<ul>\n",
    "  <li>Create a dictionary to store key-value pairs.</li>\n",
    "  <li>Process text character by character using a for loop and list comprehension.</li>\n",
    "  <li>Check for item existence in a dictionary.</li>\n",
    "  <li>Retrieve values from a dictionary based on specific keys.</li>\n",
    "  <li>Generate a new string by substituting numbers with their encoded values.</li>\n",
    "</ul>"
   ]
  },
  {
   "cell_type": "markdown",
   "metadata": {},
   "source": []
  },
  {
   "attachments": {},
   "cell_type": "markdown",
   "metadata": {},
   "source": [
    "<b> Dictionaries</b> are a fundamental data structure in Python and are akin to hash tables, consisting of key-value pairs. Similar to a real-world dictionary where each word has a corresponding definition, Python dictionaries associate keys with multiple values. Keys within a dictionary are unique. Dictionaries play a crucial role in data engineering and data cleaning tasks. They enable us to create mappings between keys and specific tables or datasets, facilitating efficient data retrieval and manipulation. With their flexibility and versatility, dictionaries are invaluable for organizing and manipulating data in Python programs."
   ]
  },
  {
   "attachments": {},
   "cell_type": "markdown",
   "metadata": {},
   "source": [
    "<p>Dictionaries are a crucial data type in Python.</p>\n",
    "<ul>\n",
    "  <li>The <code>dict.get()</code> method has an optional second argument that specifies the value to return if the key does not exist.</li>\n",
    "  <li>Iterating through dictionaries is possible using <code>dict.items()</code>, allowing access to both keys and values.</li>\n",
    "  <li>In dictionaries, items are defined as key-value pairs, contrasting with lists where each item is standalone.</li>\n",
    "</ul>\n"
   ]
  },
  {
   "attachments": {},
   "cell_type": "markdown",
   "metadata": {},
   "source": [
    "The purpose of the program is to iterate through the input text character by character. For each character encountered, the program checks if the character exists as a key in a dictionary. If it does, the character is replaced with the corresponding value from the dictionary. If the character is not found in the dictionary, it remains unchanged in the output. The program effectively performs a character substitution based on the dictionary mappings."
   ]
  },
  {
   "attachments": {},
   "cell_type": "markdown",
   "metadata": {},
   "source": [
    "<span style='background-color:#FFFF00;'>Solution</span>\n",
    "\n",
    "<ul>\n",
    "<li>Get the input text from the user.</li>\n",
    "<li>Create a dictionary that maps input characters to their corresponding desired values.</li>\n",
    "<li>Iterate through each character in the input text.</li>\n",
    "<li>Use the <code>dict.get()</code> method to replace each character with its corresponding value from the dictionary, or a default character if the key is not found.</li>\n",
    "<li>Concatenate the replaced characters to an initially empty string during each iteration.</li>\n",
    "</ul>"
   ]
  },
  {
   "attachments": {},
   "cell_type": "markdown",
   "metadata": {},
   "source": [
    "\n",
    "<p>If we were to use the <code>str.replace</code> method and iterate through the dictionary to extract matching characters, we would encounter duplicated output. Therefore, it is not recommended to iterate through the dictionary directly. Instead, it is more appropriate to iterate through the input string and check each character against the dictionary for replacements. This approach ensures that each character is processed only once, avoiding any duplication in the output.</p>"
   ]
  },
  {
   "attachments": {},
   "cell_type": "markdown",
   "metadata": {},
   "source": [
    "<h3>Step-by-step guideline to run a test file</h3>\n",
    "<ol>\n",
    "<li>To run the program, ensure that <code>jump.py</code> and <code>test.py</code> are in the same directory.</li>\n",
    "<li>Execute the following line: <code>pytest -xv test.py</code>.</li>\n",
    "<li>Debug your code if any errors occur.</li>\n",
    "</ol>\n",
    "<p>To gain further insight into the contents of <code>jump.py</code> and <code>test.py</code>, refer to the comments provided within the files.</p>"
   ]
  },
  {
   "attachments": {},
   "cell_type": "markdown",
   "metadata": {},
   "source": [
    "<h3> Summary </h3>\n",
    "Chapter 4 of \"Tiny Python Projects\" introduces \"Jump the Five,\" an encryption technique. Using dictionaries, the chapter explains how to shift letters in a message five positions forward in the alphabet to encrypt it. It guides readers through creating a dictionary to map each letter to its encrypted counterpart. The chapter covers the encryption and decryption processes, including handling uppercase letters, special characters, and spaces. By implementing the \"Jump the Five\" encryption algorithm, readers gain practical experience with dictionaries and encryption techniques in Python."
   ]
  }
 ],
 "metadata": {
  "kernelspec": {
   "display_name": "Python 3",
   "language": "python",
   "name": "python3"
  },
  "language_info": {
   "codemirror_mode": {
    "name": "ipython",
    "version": 3
   },
   "file_extension": ".py",
   "mimetype": "text/x-python",
   "name": "python",
   "nbconvert_exporter": "python",
   "pygments_lexer": "ipython3",
   "version": "3.7.3"
  },
  "orig_nbformat": 4,
  "vscode": {
   "interpreter": {
    "hash": "31f2aee4e71d21fbe5cf8b01ff0e069b9275f58929596ceb00d14d90e3e16cd6"
   }
  }
 },
 "nbformat": 4,
 "nbformat_minor": 2
}
