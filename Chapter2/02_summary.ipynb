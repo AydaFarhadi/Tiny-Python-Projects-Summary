{
 "cells": [
  {
   "attachments": {},
   "cell_type": "markdown",
   "metadata": {},
   "source": [
    "<h3>Structure of chapters</h3>\n",
    "<ul>\n",
    "    <li>We will use new.py to make a crowsnest file</li>\n",
    "    <li>It is a good practice to think about the test cases before jumping into coding</li>\n",
    "    <li>Use a make file in order to organize commands that need to run sequentially, or commands that take a lot of arguments</li>\n",
    "    <li>Each chapter has a main file, test file, and make file</li>\n",
    "</ul>"
   ]
  },
  {
   "attachments": {},
   "cell_type": "markdown",
   "metadata": {},
   "source": [
    "<h3>Chapter 2: Working with Strings</h3>\n",
    "<ul>\n",
    "    <li>Create a program that accepts a positional argument and produces usage documentation</li>\n",
    "    <li>Create a new output string depending on the inputs to the program</li>\n",
    "    <li>Run a test suite to ensure the program functions correctly</li>\n",
    "    <li>Create a program that accepts a positional argument and produces usage documentation</li>\n",
    "     <li>Positional arguments are defined by their positions and do not have names that start with dashes. You can ignore or delete all the arguments except for the positional word.</li>\n",
    "    <li>This chapter focuses on working with f-strings. F-strings are literal strings prefixed with 'f' and contain expressions inside curly braces {}.</li>\n",
    "    <li>Use the Read-Evaluate-Print-Loop (REPL) in Python to read each line of input, evaluate it, and print the results in a loop. REPL can also be used for code debugging.</li>\n",
    "    <li>The '+' operator can be used to join strings together.</li>\n",
    "    <li>Indexing in Python starts at 0.</li>\n",
    "</ul>"
   ]
  },
  {
   "cell_type": "markdown",
   "metadata": {},
   "source": []
  },
  {
   "attachments": {},
   "cell_type": "markdown",
   "metadata": {},
   "source": [
    "<p><span style='background-color:#FFFF00;'>Help</span> is really important in Python.</p>\n",
    "<p>Inside the help, you can navigate up and down the text using the up and down cursor arrows on your keyboard. You can also press the spacebar or the letter F (or sometimes Ctrl-F) to jump forward to the next page, and the letter B (or sometimes Ctrl-B) to jump backward. To search through the documentation, press / and then enter the text you want to find. If you press N (for “next”) after a search, you will jump to the next occurrence of that text. To exit the help, press Q (for “quit”).</p>"
   ]
  },
  {
   "attachments": {},
   "cell_type": "markdown",
   "metadata": {},
   "source": [
    "<p>Strings are an important type in Python.</p>\n",
    "<ul>\n",
    "    <li>When executing a function, parentheses () are needed.</li>\n",
    "    <li>Characters are a type of string.</li>\n",
    "    <li>Be careful to always use <span style='background-color:#FFFF00;'>one equal sign (=)</span> when assigning a value to a variable, like word = 'narwhal', and <span style='background-color:#FFFF00;'>two equal signs (==)</span> when comparing two values.</li>\n",
    "    <li>Strings have methods like str.upper() and str.isupper() that you can call to modify them or retrieve information.</li>\n",
    "    <li>It is a good practice to always consider default values when defining variables to use.</li>\n",
    "</ul>"
   ]
  },
  {
   "attachments": {},
   "cell_type": "markdown",
   "metadata": {},
   "source": [
    "<p>Statements like if/else do not return a value, whereas expressions like <code>x if y else z</code> do return a value.</p>\n"
   ]
  },
  {
   "attachments": {},
   "cell_type": "markdown",
   "metadata": {},
   "source": [
    "<p>Try writing the test first and then make your program pass the test. That is test-driven development!</p>"
   ]
  },
  {
   "attachments": {},
   "cell_type": "markdown",
   "metadata": {},
   "source": [
    "\n",
    "The purpose of the program is to accept a single positional argument and then print the given argument inside the \"Ahoy\" message, along with the word \"a\" or \"an\" depending on whether the argument starts with a consonant or a vowel."
   ]
  },
  {
   "attachments": {},
   "cell_type": "markdown",
   "metadata": {},
   "source": [
    "<span style='background-color:#FFFF00;'>Solution</span>\n",
    "<ul>\n",
    "<li>Get text argument from user</li>\n",
    "<li>Create article as if the first character of the text, in lowercase, starts with (a, i, o, u, e) as \"an\"; otherwise, set it as \"a\"</li>\n",
    "<li>Print the message using the f-string format: <code>print(f'Ahoy, Captain, {article} {word} off the larboard bow!')</code></li>\n",
    "</ul>"
   ]
  },
  {
   "attachments": {},
   "cell_type": "markdown",
   "metadata": {},
   "source": [
    "<h3>Step-by-step guideline to run a test file</h3>\n",
    "<ol>\n",
    "<li>To run the program, ensure that <code>crowsnest.py</code> and <code>test.py</code> are in the same directory.</li>\n",
    "<li>Execute the following line: <code>pytest -xv test.py</code>.</li>\n",
    "<li>Debug your code if any errors occur.</li>\n",
    "</ol>\n",
    "<p>To gain further insight into the contents of <code>crowsnest.py</code> and <code>test.py</code>, refer to the comments provided within the files.</p>"
   ]
  },
  {
   "attachments": {},
   "cell_type": "markdown",
   "metadata": {},
   "source": [
    "<h3>Summary</h3>\n",
    "Chapter 2 of \"Tiny Python Projects\" explores string manipulation techniques and introduces the concept of positional arguments. It emphasizes test-driven development and the use of a makefile for organizing commands. The chapter covers f-strings, which allow dynamic output generation based on inputs. It introduces the REPL for interactive code evaluation and debugging. The importance of understanding string types and assigning variables correctly is highlighted. String methods like str.upper() and str.isupper() are discussed. The chapter emphasizes default values for variables and the use of if/else statements. The program's purpose is to print an \"Ahoy\" message with \"a\" or \"an\" depending on the argument's starting character. The solution involves user input, article determination, and message printing. Overall, the chapter provides practical insights for efficient string handling in Python."
   ]
  }
 ],
 "metadata": {
  "kernelspec": {
   "display_name": "Python 3",
   "language": "python",
   "name": "python3"
  },
  "language_info": {
   "codemirror_mode": {
    "name": "ipython",
    "version": 3
   },
   "file_extension": ".py",
   "mimetype": "text/x-python",
   "name": "python",
   "nbconvert_exporter": "python",
   "pygments_lexer": "ipython3",
   "version": "3.7.3"
  },
  "orig_nbformat": 4,
  "vscode": {
   "interpreter": {
    "hash": "31f2aee4e71d21fbe5cf8b01ff0e069b9275f58929596ceb00d14d90e3e16cd6"
   }
  }
 },
 "nbformat": 4,
 "nbformat_minor": 2
}
