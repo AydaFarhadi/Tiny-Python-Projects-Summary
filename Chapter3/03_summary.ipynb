{
 "cells": [
  {
   "cell_type": "markdown",
   "metadata": {},
   "source": [
    "<h2>Structure of chapters</h2>\n",
    "<ul>\n",
    "<li>Each chapter includes a main file, test file, and make file.</li>  \n",
    "<li>The main file is used to implement the code related to the chapter's topic</li>\n",
    "<li>The test file contains test cases that ensure the code functions correctly.</li>\n",
    "<li>A make file is provided to organize and run commands sequentially or handle commands with multiple arguments.</li>\n",
    "<li>It is recommended to consider test cases before starting the coding process.</li>\n",
    "<li>Step-by-step guidline to run the test file </li>\n",
    "</ul>"
   ]
  },
  {
   "cell_type": "markdown",
   "metadata": {},
   "source": [
    "<h2>Chapter 3: Going on a picnic: Working with lists</h2>\n",
    "<ul>\n",
    "<li>Introducing lists</li>  \n",
    "<li>Write a program that accepts multiple positional arguments </li>  \n",
    "<li>Sort and reverse lists</li>\n",
    "<li>Format a list into a new string </li>\n",
    "</ul>"
   ]
  },
  {
   "cell_type": "markdown",
   "metadata": {},
   "source": [
    "<h2>Introducing lists</h2>\n",
    "\n",
    "\n",
    "A list is a built-in data structure that represents a collection of elements. It is an ordered and mutable sequence, which means that you can store multiple items in a specific order and modify the contents of the list after it is created.\n",
    "\n",
    "Lists are defined by enclosing comma-separated values within square brackets []. The elements in a list can be of any data type, such as numbers, strings, booleans, or even other lists. \n",
    "\n",
    "Lists are indexed starting from 0, so you can access individual elements by their index.\n",
    "\n",
    "Lists support various operations and methods for manipulating and accessing the data they contain. Some common operations include appending elements, removing elements, slicing, iterating over the elements, and sorting.\n",
    "\n",
    "To gain more info.please chekc out this source:\n",
    "\n",
    "https://www.w3schools.com/python/python_lists.asp#:~:text=%2C%20%22cherry%22%5D-,List,with%20different%20qualities%20and%20usage.\n"
   ]
  },
  {
   "cell_type": "markdown",
   "metadata": {},
   "source": [
    "<h2>Solution:</h2>\n",
    "<ul>\n",
    "<li>Get the input of one or more positional arguments  from the user.</li>\n",
    "<li> Store the  positional arguments in a list </li>\n",
    "<li>Count the number of arguments </li>\n",
    "<li>Possibly sort the items</li>\n",
    "<li>Use the list to print a new a string that formats the arguments according to how many items there are</li>\n",
    "</ul>\n",
    "\n"
   ]
  },
  {
   "cell_type": "markdown",
   "metadata": {},
   "source": [
    "##  Testing your program\n",
    "\n",
    "The most fundamental idea here  is to learn how to test your programs. The file test.py program in the directory will be used to test the  new hello.py program.\n",
    "\n",
    "We will use pytest to execute all the commands and tell us how many tests we passed. \n"
   ]
  },
  {
   "cell_type": "markdown",
   "metadata": {},
   "source": [
    "##  Summary\n",
    "\n",
    "Chapter 3 of \"Tiny Python Projects\" introduces a program which developed by data-strcutre \"list\" to keep track of one or more  \"items\". Using a list, we can accept multiple positional arguments and utilizing condition statemnt (if, elif, and else) plus  sort/reverse, to formating the  list  into a new string.\n"
   ]
  },
  {
   "cell_type": "markdown",
   "metadata": {},
   "source": [
    "##  Step-by-step guidline to run the test file\n",
    "<ul>\n",
    "<li>1- To run the program, make sure that hello.py and test.py are in a same directory.</li>\n",
    "<li>2- run this line: \"pytest -xv test.py\"</li>\n",
    "<li>3- Debug your code if there is any error.</li> <ul>"
   ]
  },
  {
   "cell_type": "markdown",
   "metadata": {},
   "source": [
    "To gain more insight into what is happening inside these files **picnic.py** and **test.py**,  some comment has been left. Please check them out.\n",
    "\n",
    "\n"  ]
  },
  {
   "cell_type": "code",
   "execution_count": null,
   "metadata": {},
   "outputs": [],
   "source": []
  }
 ],
 "metadata": {
  "kernelspec": {
   "display_name": "Python 3 (ipykernel)",
   "language": "python",
   "name": "python3"
  },
  "language_info": {
   "codemirror_mode": {
    "name": "ipython",
    "version": 3
   },
   "file_extension": ".py",
   "mimetype": "text/x-python",
   "name": "python",
   "nbconvert_exporter": "python",
   "pygments_lexer": "ipython3",
   "version": "3.8.8"
  }
 },
 "nbformat": 4,
 "nbformat_minor": 1
}
